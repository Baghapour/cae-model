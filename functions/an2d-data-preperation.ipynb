{
 "cells": [
  {
   "cell_type": "markdown",
   "metadata": {},
   "source": [
    "<strong><h55> Buoyant Cavity 2D, 100 cases (bc) </strong></h55>"
   ]
  },
  {
   "cell_type": "code",
   "execution_count": 1,
   "metadata": {},
   "outputs": [],
   "source": [
    "from os.path import join\n",
    "Fld = \"/path/to/field\"\n",
    "Dat = \"/path/to/data\""
   ]
  },
  {
   "cell_type": "code",
   "execution_count": null,
   "metadata": {},
   "outputs": [],
   "source": [
    "from datafunctions import fdict,takeFeatures,takeField,make_csv\n",
    "#takeFeatures(fld=Fld,pth=Dat,nm=\"an\");\n",
    "takeField(fld=Fld,f=\"WZ\",nrm=\"pmo\",wrt=True,nm=\"an-vorticity\",pth=Dat)\n"
   ]
  },
  {
   "cell_type": "code",
   "execution_count": null,
   "metadata": {},
   "outputs": [],
   "source": [
    "#X = takeField(fld=Fld,f=\"X\",nrm=\"mmx\",frst=True).flatten();\n",
    "#Y = takeField(fld=Fld,f=\"Y\",nrm=\"mmx\",frst=True).flatten();\n",
    "#make_csv(cols=[\"X\",\"Y\"],data=[X,Y],nm=\"bc-grid\",pth=Dat)"
   ]
  }
 ],
 "metadata": {
  "kernelspec": {
   "display_name": "Python 3.7.0b1 64-bit",
   "language": "python",
   "name": "python3"
  },
  "language_info": {
   "codemirror_mode": {
    "name": "ipython",
    "version": 3
   },
   "file_extension": ".py",
   "mimetype": "text/x-python",
   "name": "python",
   "nbconvert_exporter": "python",
   "pygments_lexer": "ipython3",
   "version": "3.7.0b1 (v3.7.0b1:9561d7f, Jan 31 2018, 07:26:34) [MSC v.1900 64 bit (AMD64)]"
  },
  "orig_nbformat": 4,
  "vscode": {
   "interpreter": {
    "hash": "f293ec448fafddab3cd48a2b45f8500ea4fb6f5f93b1833bed7ffcd5d78118bf"
   }
  }
 },
 "nbformat": 4,
 "nbformat_minor": 2
}
